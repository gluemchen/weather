{
 "cells": [
  {
   "cell_type": "markdown",
   "source": [
    "# 2. Kontrollstrukturen\r\n",
    "\r\n",
    "Wie läuft ein Programm normalerweise ab?\r\n",
    "\r\n",
    "- sequentiell --> Anweisung für Anweisung\r\n",
    "- von oben nach unten --> TOP DOWN\r\n",
    "- Fehler im Code --> Interpretation wird abgebrochen und Folgecode nicht mehr ausgeführt\r\n",
    "\r\n",
    "Wozu brauchen wir Kontrollstrukturen?\r\n",
    "\r\n",
    "- um den Programmablauf zu beeinflussen\r\n",
    "- steuern, kontrollieren Programmablauf\r\n",
    "\r\n",
    "## 2.1 Verzweigungen\r\n",
    "\r\n",
    "### 2.1.1 unbedingte Anweisung\r\n",
    "\r\n",
    "- Anweisung die auf jeden Fall ausgeführt wird\r\n",
    "- Die Ausführung hängt nicht von einer Bedingung ab\r\n",
    "- Anweisung stehen am Zeilenanfang\r\n",
    "\r\n",
    "### 2.1.2 bedingten Anweisungen\r\n",
    "\r\n",
    "- Anweisung die nicht auf jeden Fall ausgeführt wird\r\n",
    "- Die Ausführung hängt von einer Bedingung ab\r\n",
    "- Anweisung stehen eingerückt in der Zeile\r\n",
    "\r\n",
    "Syntax:\r\n",
    "```Python\r\n",
    "if Bedingung:\r\n",
    "    Anweisung_1\r\n",
    "    Anweisung_2\r\n",
    "    Anweisung_n\r\n",
    "```\r\n",
    "\r\n",
    "### 2.1.3 Verzweigung\r\n",
    "\r\n",
    "- Anweisung im if-Zweig wird ausgeführt wenn die Bedingung TRUE ist\r\n",
    "- Anweisungen im else-Zweig wird ausgeführt wenn die Bedingung FALSE ist\r\n",
    "- Es gibt \r\n",
    "\r\n",
    "Syntax:\r\n",
    "```Python\r\n",
    "if Bedingung:\r\n",
    "    Anweisung_1\r\n",
    "    Anweisung_2\r\n",
    "    Anweisung_n\r\n",
    "else:\r\n",
    "    Anweisung_3\r\n",
    "    Anweisung_4\r\n",
    "    Anweisung_m\r\n",
    "```"
   ],
   "metadata": {}
  },
  {
   "cell_type": "code",
   "execution_count": null,
   "source": [
    "# WENN wetter schön=True dann \"kurze Hose\"\r\n",
    "wetter = True #Boolean\r\n",
    "if wetter:\r\n",
    "    print(\"kurze Hose\")"
   ],
   "outputs": [],
   "metadata": {}
  },
  {
   "cell_type": "code",
   "execution_count": null,
   "source": [
    "wetter = True\r\n",
    "if wetter == True:\r\n",
    "    print(\"kurze Hose\")"
   ],
   "outputs": [],
   "metadata": {}
  },
  {
   "cell_type": "code",
   "execution_count": 15,
   "source": [
    "# Benutzereingabe für die Variable ball\r\n",
    "ball = input(\"Ist der ball rund?\")\r\n",
    "# wenn der Ball \"rund\" ist dann muss er ins \"eckige\"\r\n",
    "if ball == \"ja\":\r\n",
    "# Ausgabe \"eckige\" unter der Bedingung\r\n",
    "    print(\"Er muss ins Eckige!\")\r\n",
    "elif ball != \"ja\":\r\n",
    "    print(\"Der ist ja gar nicht rund!\")"
   ],
   "outputs": [
    {
     "output_type": "stream",
     "name": "stdout",
     "text": [
      "Der ist ja gar nicht rund!\n"
     ]
    }
   ],
   "metadata": {}
  },
  {
   "cell_type": "code",
   "execution_count": 16,
   "source": [
    "# Benutzereingabe für die Variable ball\r\n",
    "ball = input(\"Ist der ball rund?\")\r\n",
    "rund = \"rund\"\r\n",
    "abfrage = rund.lower in ball\r\n",
    "# wenn der Ball \"rund\" ist dann muss er ins \"eckige\"\r\n",
    "if abfrage == True:\r\n",
    "# Ausgabe \"eckige\" unter der Bedingung\r\n",
    "    print(\"Er muss ins Eckige!\")\r\n",
    "elif abfrage == False:\r\n",
    "    print(\"Der ist ja gar nicht rund!\")"
   ],
   "outputs": [
    {
     "output_type": "error",
     "ename": "TypeError",
     "evalue": "'in <string>' requires string as left operand, not builtin_function_or_method",
     "traceback": [
      "\u001b[1;31m---------------------------------------------------------------------------\u001b[0m",
      "\u001b[1;31mTypeError\u001b[0m                                 Traceback (most recent call last)",
      "\u001b[1;32m<ipython-input-16-2fd7521fcb1b>\u001b[0m in \u001b[0;36m<module>\u001b[1;34m\u001b[0m\n\u001b[0;32m      2\u001b[0m \u001b[0mball\u001b[0m \u001b[1;33m=\u001b[0m \u001b[0minput\u001b[0m\u001b[1;33m(\u001b[0m\u001b[1;34m\"Ist der ball rund?\"\u001b[0m\u001b[1;33m)\u001b[0m\u001b[1;33m\u001b[0m\u001b[1;33m\u001b[0m\u001b[0m\n\u001b[0;32m      3\u001b[0m \u001b[0mrund\u001b[0m \u001b[1;33m=\u001b[0m \u001b[1;34m\"rund\"\u001b[0m\u001b[1;33m\u001b[0m\u001b[1;33m\u001b[0m\u001b[0m\n\u001b[1;32m----> 4\u001b[1;33m \u001b[0mabfrage\u001b[0m \u001b[1;33m=\u001b[0m \u001b[0mrund\u001b[0m\u001b[1;33m.\u001b[0m\u001b[0mlower\u001b[0m \u001b[1;32min\u001b[0m \u001b[0mball\u001b[0m\u001b[1;33m\u001b[0m\u001b[1;33m\u001b[0m\u001b[0m\n\u001b[0m\u001b[0;32m      5\u001b[0m \u001b[1;31m# wenn der Ball \"rund\" ist dann muss er ins \"eckige\"\u001b[0m\u001b[1;33m\u001b[0m\u001b[1;33m\u001b[0m\u001b[1;33m\u001b[0m\u001b[0m\n\u001b[0;32m      6\u001b[0m \u001b[1;32mif\u001b[0m \u001b[0mabfrage\u001b[0m \u001b[1;33m==\u001b[0m \u001b[1;32mTrue\u001b[0m\u001b[1;33m:\u001b[0m\u001b[1;33m\u001b[0m\u001b[1;33m\u001b[0m\u001b[0m\n",
      "\u001b[1;31mTypeError\u001b[0m: 'in <string>' requires string as left operand, not builtin_function_or_method"
     ]
    }
   ],
   "metadata": {}
  },
  {
   "cell_type": "markdown",
   "source": [
    "WENN sie \"genug geld\" haben  bekommen sie die Bannane ANSONSTEN nicht"
   ],
   "metadata": {}
  },
  {
   "cell_type": "code",
   "execution_count": 26,
   "source": [
    "geld = False\r\n",
    "if geld:\r\n",
    "    print(\"Hier hast du die Bannane!\")\r\n",
    "else:\r\n",
    "    print(\"NO BANNANANANANANA!\")    \r\n",
    "\r\n",
    "# geld = \"genug geld\"\r\n",
    "# if geld == \"genug geld\":\r\n",
    "#     print(\"Hier hast du die Bannane!\")\r\n",
    "# else:\r\n",
    "#     print(\"NO BANNANANANANANA!\")\r\n",
    "\r\n"
   ],
   "outputs": [
    {
     "output_type": "stream",
     "name": "stdout",
     "text": [
      "NO BANNANANANANANA!\n"
     ]
    }
   ],
   "metadata": {}
  },
  {
   "cell_type": "markdown",
   "source": [
    "# 2.2 Schleifen\r\n",
    "# 2.2.1 while Schleife\r\n",
    "```Python\r\n",
    "while Bedingung:    # Schleifenkopf\r\n",
    "    Anweisung 1     # Schleifenrumpf\r\n",
    "    Anweisung 2\r\n",
    "    Anweisung n\r\n",
    "```\r\n",
    "Syntax \r\n"
   ],
   "metadata": {}
  },
  {
   "cell_type": "code",
   "execution_count": null,
   "source": [
    "# Beispiel für while Schleife\r\n",
    "\r\n",
    "wetter = \"schön\"\r\n",
    "while wetter == \"schön\":\r\n",
    "    print(\"baden gehen\")\r\n",
    "    wetter = input()\r\n",
    "else:\r\n",
    "    print(\"zu Hause\")\r\n",
    "    \r\n"
   ],
   "outputs": [],
   "metadata": {}
  },
  {
   "cell_type": "code",
   "execution_count": 4,
   "source": [
    "# solange Sie Geld haben gehen Sie Eis essen\r\n",
    "\r\n",
    "geld = float(input(\"Wieviel Geld hast du? \"))\r\n",
    "menge = float(input(\"Wieviele Eiskugeln Willst du kaufen ? \"))\r\n",
    "eiskugel = float(1.50)\r\n",
    "preis = eiskugel * menge\r\n",
    "\r\n",
    "while geld >= eiskugel:\r\n",
    "    geld -= preis\r\n",
    "    print('Du hast noch im ' ,geld, 'Geldbeutel. Wie viele kugeln wollen Sie haben? ')\r\n",
    "    menge = input()"
   ],
   "outputs": [
    {
     "output_type": "stream",
     "name": "stdout",
     "text": [
      "Du hast noch im  28.0 Geldbeutel. Wie viele kugeln wollen Sie haben? \n",
      "Du hast noch im  22.0 Geldbeutel. Wie viele kugeln wollen Sie haben? \n",
      "Du hast noch im  16.0 Geldbeutel. Wie viele kugeln wollen Sie haben? \n",
      "Du hast noch im  10.0 Geldbeutel. Wie viele kugeln wollen Sie haben? \n",
      "Du hast noch im  4.0 Geldbeutel. Wie viele kugeln wollen Sie haben? \n",
      "Du hast noch im  -2.0 Geldbeutel. Wie viele kugeln wollen Sie haben? \n"
     ]
    }
   ],
   "metadata": {}
  },
  {
   "cell_type": "code",
   "execution_count": 3,
   "source": [
    "x = 0\r\n",
    "while x <= 10:\r\n",
    "    print(x)\r\n",
    "    if x == 3:\r\n",
    "        x = 7\r\n",
    "        continue\r\n",
    "    print(\"nach continue\")\r\n",
    "    x = x+1 # x+=1"
   ],
   "outputs": [
    {
     "output_type": "stream",
     "name": "stdout",
     "text": [
      "0\n",
      "nach continue\n",
      "1\n",
      "nach continue\n",
      "2\n",
      "nach continue\n",
      "3\n",
      "7\n",
      "nach continue\n",
      "8\n",
      "nach continue\n",
      "9\n",
      "nach continue\n",
      "10\n",
      "nach continue\n"
     ]
    }
   ],
   "metadata": {}
  },
  {
   "cell_type": "code",
   "execution_count": null,
   "source": [
    "antwort = \"\"\r\n",
    "while antwort != \"ja\":\r\n",
    "    if \"ja\" in antwort:\r\n",
    "        print(\"weiter\")\r\n",
    "        continue\r\n",
    "    if \"raus\" in antwort:\r\n",
    "        print(\"Notausgang\")\r\n",
    "        break\r\n",
    "else:\r\n",
    "    print(\"Scheife ordnungsgemäß verlassen!\")"
   ],
   "outputs": [],
   "metadata": {}
  },
  {
   "cell_type": "code",
   "execution_count": null,
   "source": [],
   "outputs": [],
   "metadata": {}
  }
 ],
 "metadata": {
  "orig_nbformat": 4,
  "language_info": {
   "name": "python",
   "version": "3.8.8",
   "mimetype": "text/x-python",
   "codemirror_mode": {
    "name": "ipython",
    "version": 3
   },
   "pygments_lexer": "ipython3",
   "nbconvert_exporter": "python",
   "file_extension": ".py"
  },
  "kernelspec": {
   "name": "python3",
   "display_name": "Python 3.8.8 64-bit ('base': conda)"
  },
  "interpreter": {
   "hash": "b3ba2566441a7c06988d0923437866b63cedc61552a5af99d1f4fb67d367b25f"
  }
 },
 "nbformat": 4,
 "nbformat_minor": 2
}