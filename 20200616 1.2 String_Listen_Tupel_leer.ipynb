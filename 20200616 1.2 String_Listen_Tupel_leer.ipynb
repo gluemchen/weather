{
 "cells": [
  {
   "cell_type": "markdown",
   "source": [
    "    Name:Mike Jones\n",
    "    Gruppe:IT-S-21-01\n",
    "    Lehrgang:FIA"
   ],
   "metadata": {}
  },
  {
   "cell_type": "markdown",
   "source": [
    "# Aufgaben String, Listen, Tupel"
   ],
   "metadata": {}
  },
  {
   "cell_type": "markdown",
   "source": [
    "## 1. String ausgeben\n",
    "\n",
    "Gegeben ist folgender String: \"Die Auszubildenden im BFW sind super\" \n",
    "1. Geben Sie den String an den Benutzer aus!\n",
    "2. Geben Sie den String \"Die super Auszubildenden\" an die Benutzer aus. Benutzen Sie nur die Elemente aus dem gegebenen String\n"
   ],
   "metadata": {}
  },
  {
   "cell_type": "code",
   "execution_count": 1,
   "source": [
    "# Lösung 1\r\n",
    "string = \"Die Auszubildenden im BFW sind super\"\r\n",
    "print(string)\r\n",
    "string = \"Die super Auszubildenden\"\r\n",
    "print(string)"
   ],
   "outputs": [],
   "metadata": {}
  },
  {
   "cell_type": "markdown",
   "source": [
    "## 2. Suchen nach bestimmten Teilen\n",
    "\n",
    "Gegeben ist folgender String: \"Das Wetter in Stuttgart ist meist gut\"\n",
    "\n",
    "Überprüfen Sie, ob in dem String \"gart\" steht und geben Sie das Ergebnis der Suche an den Benutzer aus"
   ],
   "metadata": {}
  },
  {
   "cell_type": "code",
   "execution_count": 3,
   "source": [
    "# Lösung 2\r\n",
    "string = \"Das Wetter in Stuttgart ist meist gut\"\r\n",
    "text = string.lower()\r\n",
    "search = input(\"Enter the term you wish to search for: \")\r\n",
    "searchtext = search.lower()\r\n",
    "result = searchtext in text\r\n",
    "if(result):\r\n",
    "    print(\"The term\",search,\"was found.\")\r\n",
    "else:\r\n",
    "    print(\"The term\",search,\"was not found.\")\r\n",
    "    \r\n"
   ],
   "outputs": [
    {
     "output_type": "stream",
     "name": "stdout",
     "text": [
      "Enter the term you wish to search for: sdf\n",
      "The term sdf was not found.\n"
     ]
    }
   ],
   "metadata": {}
  },
  {
   "cell_type": "markdown",
   "source": [
    "### 3. Verketten von Strings\n",
    "\n",
    "Initialisieren Sie die Strings \"Die Auzubildenden im BFW\" und \"sind super\": Fügen Sie die beiden Strings zu einem neuen String zusammen"
   ],
   "metadata": {}
  },
  {
   "cell_type": "code",
   "execution_count": 15,
   "source": [
    "# Lösung 3\r\n",
    "string1=\"\"\r\n",
    "string2=\"\"\r\n",
    "print(\"Geben sie zwei texte ein die sie zusammenfuehren moechten.\")\r\n",
    "string1 = input(\"geben sie den ersten text ein\")\r\n",
    "string2 = input(\"geben sie den zweiten text ein\")\r\n",
    "combined = string1 + \" \" + string2\r\n",
    "print(combined)"
   ],
   "outputs": [
    {
     "output_type": "stream",
     "name": "stdout",
     "text": [
      "Geben sie zwei texte ein die sie zusammenfuehren moechten.\n",
      "geben sie den ersten text einf.,dgmn.dfjg\n",
      "geben sie den zweiten text einsdfnsndlkfn\n",
      "f.,dgmn.dfjg sdfnsndlkfn\n"
     ]
    }
   ],
   "metadata": {}
  },
  {
   "cell_type": "markdown",
   "source": [
    "### 4. Buchstaben verändern\n",
    "\n",
    "Gegeben ist der String: \"kino check\"\n",
    "Wenden Sie eine Methode auf diesen String an um beide Wörter groß zu schreiben"
   ],
   "metadata": {}
  },
  {
   "cell_type": "code",
   "execution_count": 17,
   "source": [
    "# Lösung 4\r\n",
    "string = input(\"Type in your text: \")\r\n",
    "print(string.upper())"
   ],
   "outputs": [
    {
     "output_type": "stream",
     "name": "stdout",
     "text": [
      "Type in your text: sjkdhfkshdf sdfhskdhfksjdhf\n",
      "SJKDHFKSHDF SDFHSKDHFKSJDHF\n"
     ]
    }
   ],
   "metadata": {}
  },
  {
   "cell_type": "markdown",
   "source": [
    "### 5. Unterschiede Methoden\n",
    "\n",
    "Nennen Sie den Unterschied zwischen den Methoden \n",
    "````Python\n",
    "upper()\n",
    "````\n",
    "und \n",
    "````Python\n",
    "lower()!\n",
    "````"
   ],
   "metadata": {}
  },
  {
   "cell_type": "code",
   "execution_count": 18,
   "source": [
    "# Lösung 5\r\n",
    "string = input(\"Type in your text: \")\r\n",
    "print(string.upper())\r\n",
    "print(string.lower())"
   ],
   "outputs": [
    {
     "output_type": "stream",
     "name": "stdout",
     "text": [
      "Type in your text: 09swftu09weu0ftr9iq3409drumq0\n",
      "09SWFTU09WEU0FTR9IQ3409DRUMQ0\n",
      "09swftu09weu0ftr9iq3409drumq0\n"
     ]
    }
   ],
   "metadata": {}
  },
  {
   "cell_type": "markdown",
   "source": [
    "### 6. Ändern einer Liste\n",
    "Gegeben ist folgende Liste: liste1 = [0,1,2,3,4,5,6,7,8,9]\n",
    "1. Erweitern Sie die Liste mittels Methode um die Zahlen 10,11,12,13\n",
    "2. Entfernen Sie die Zahl 0 und die Zahl 13 mittels Methode aus der Liste\n",
    "3. Ändern Sie die Zahlen in die Buchstaben des Alphabets also 1=a, 2=b, 3=c usw.\n",
    "Geben Sie alle 3 Aufgaben an den Benutzer aus"
   ],
   "metadata": {}
  },
  {
   "cell_type": "code",
   "execution_count": 23,
   "source": [
    "# Lösung 6\r\n",
    "liste1 = [0,1,2,3,4,5,6,7,8,9]\r\n",
    "liste1.append(10),(11)\r\n",
    "liste1.append(11)\r\n",
    "liste1.append(12)\r\n",
    "liste1.append(13)\r\n",
    "# liste2 = [10,11,12,13]\r\n",
    "print(liste1)\r\n",
    "liste1.remove(0)\r\n",
    "liste1.remove(13)\r\n",
    "print(liste1)\r\n",
    "liste1[0]=(\"a\",\"b\",\"c\",\"d\",\"e\",\"f\",\"g\",\"h\",\"i\",\"j\",\"k\",\"l\")\r\n",
    "# liste1[0]=(\"a\")\r\n",
    "# liste1[1]=(\"b\")\r\n",
    "# liste1[2]=(\"c\")\r\n",
    "# liste1[3]=(\"d\")\r\n",
    "# liste1[4]=(\"e\")\r\n",
    "# liste1[5]=(\"f\")\r\n",
    "# liste1[6]=(\"g\")\r\n",
    "# liste1[7]=(\"h\")\r\n",
    "# liste1[8]=(\"i\")\r\n",
    "# liste1[9]=(\"j\")\r\n",
    "# liste1[10]=(\"k\")\r\n",
    "# liste1[11]=(\"l\")\r\n",
    "print(liste1)"
   ],
   "outputs": [
    {
     "output_type": "stream",
     "name": "stdout",
     "text": [
      "[0, 1, 2, 3, 4, 5, 6, 7, 8, 9, 10, 11, 12, 13]\n",
      "[1, 2, 3, 4, 5, 6, 7, 8, 9, 10, 11, 12]\n",
      "[('a', 'b', 'c', 'd', 'e', 'f', 'g', 'h', 'i', 'j', 'k', 'l'), 2, 3, 4, 5, 6, 7, 8, 9, 10, 11, 12]\n"
     ]
    }
   ],
   "metadata": {}
  },
  {
   "cell_type": "markdown",
   "source": [
    "### 7. Listen Ausgabe  \n",
    "\n",
    "Gegeben ist folgende Liste\n",
    "````Python\n",
    "liste1 = [1,2,True,5.6,(\"Super\",9,(\"Feierabend\", \"kein\",False))]\n",
    "````\n",
    "Geben Sie nacheinander folgende Werte aus der Liste aus!\n",
    "````\n",
    "- True\n",
    "- Super\n",
    "- False\n",
    "- ein Feierabend\n",
    "````"
   ],
   "metadata": {}
  },
  {
   "cell_type": "code",
   "execution_count": 14,
   "source": [
    "# Lösung 7\r\n",
    "liste1 = [1,2,True,5.6,(\"Super\",9,(\"Feierabend\", \"kein\",False))]\r\n",
    "print(liste1[2])\r\n",
    "print(liste1[4][0])\r\n",
    "print(liste1[4][2][2])\r\n",
    "print(liste1[4][2][0])"
   ],
   "outputs": [
    {
     "output_type": "stream",
     "name": "stdout",
     "text": [
      "True\n",
      "Super\n",
      "False\n",
      "Feierabend\n"
     ]
    }
   ],
   "metadata": {}
  },
  {
   "cell_type": "markdown",
   "source": [
    "### 8. Tupel Ausgabe \n",
    "\n",
    "Gegeben ist folgender Tupel:\n",
    "````Python\n",
    "tupel1 = ((\"Ich\", \"bin\", \"Super\"),(\"Briem\", \"Müller\", \"Kaltenbach\"),(\"Guten Abend\", \"Schlechten Morgen\"),(\"Frau\",\"Mann\",\"Divers\",\"Herr\"))\n",
    "````\n",
    "Geben Sie \"Guten Morgen Herr Briem\" an den Benutzer aus!\n",
    "\n"
   ],
   "metadata": {}
  },
  {
   "cell_type": "code",
   "execution_count": 58,
   "source": [
    "# Lösung 8\r\n",
    "tupel1 = ((\"Ich\", \"bin\", \"Super\"),(\"Briem\", \"Müller\", \"Kaltenbach\"),(\"Guten Abend\", \"Schlechten Morgen\"),(\"Frau\",\"Mann\",\"Divers\",\"Herr\"))\r\n",
    "print(tupel1[2][0][:6] + tupel1[2][1][-6:] + \" \" + tupel1[3][3] + \" \" + tupel1[1][0])"
   ],
   "outputs": [
    {
     "output_type": "stream",
     "name": "stdout",
     "text": [
      "Guten Morgen Herr Briem\n"
     ]
    }
   ],
   "metadata": {}
  },
  {
   "cell_type": "markdown",
   "source": [
    "Zusatz:\r\n",
    "Gegeben sind 3 Listen mit je 3 Werten\r\n",
    "Die werte werden durch Benutzereingabe inden einzelnen\r\n",
    "Feldern der Liste gespeichert\r\n",
    "die Ausgabe erfolgt wie bei einem TicTacToe-Feld\r\n",
    "\r\n",
    "X|O|X\r\n",
    "O|X|O\r\n",
    "X|O|X"
   ],
   "metadata": {}
  },
  {
   "cell_type": "code",
   "execution_count": 24,
   "source": [
    "tictactoe_list = [7,8,9,[4,5,6,[1,2,3]]]\r\n",
    "print(str(tictactoe_list, sep=\"|\"))"
   ],
   "outputs": [
    {
     "output_type": "stream",
     "name": "stdout",
     "text": [
      "[7, 8, 9, [4, 5, 6, [1, 2, 3]]]\n"
     ]
    }
   ],
   "metadata": {}
  },
  {
   "cell_type": "markdown",
   "source": [],
   "metadata": {}
  },
  {
   "cell_type": "code",
   "execution_count": 5,
   "source": [
    "#Tictactoe\r\n",
    "# this top row of the tictactoe field(List initialized with 3 Elements)\r\n",
    "player1 = input(\"Hello Player 1. Please enter your name: \")\r\n",
    "player2 = input(\"Hello Player 2. Please enter your name: \")\r\n",
    "\r\n",
    "row1 = [\"Row 1:\",7,8,9]\r\n",
    "row2 = [\"Row 2:\",4,5,6]\r\n",
    "row3 = [\"Row 3:\",1,2,3]\r\n",
    "\r\n",
    "playfield = row1 + row2 + row3\r\n",
    "\r\n",
    "keys = [\"1\",\"2\",\"3\"]\r\n",
    "\r\n",
    "keys[0] = row1\r\n",
    "keys[1] = row2\r\n",
    "keys[2] = row3\r\n",
    "\r\n",
    "\r\n",
    "\r\n",
    "print(playfield)\r\n",
    "\r\n",
    "print(row1, sep='|')\r\n",
    "print(row2, sep='|')\r\n",
    "print(row3, sep='|')\r\n",
    "\r\n",
    "choose_row = input(\"Where do you wish to place your mark. Choose a row: \")\r\n",
    "if(choose_row in keys):\r\n",
    "    print(\"You have chosen the first row.\", row1)\r\n",
    "elif(choose_row in keys):\r\n",
    "    print(\"You have chosen the second row.\", row2)\r\n",
    "elif(choose_row in keys):\r\n",
    "    print(\"You have chosen the third row.\", row3)\r\n",
    "elif(choose_row not in keys):\r\n",
    "    print(\"Please use the appropriate keys.\")\r\n",
    "\r\n",
    "\r\n",
    "\r\n",
    "# check = mark in playfield\r\n",
    "# if(check):\r\n",
    "#     print(\"The term\",search,\"was found.\")\r\n",
    "# else:\r\n",
    "#     print(\"The term\",search,\"was not found.\")\r\n",
    "\r\n",
    "\r\n"
   ],
   "outputs": [
    {
     "output_type": "stream",
     "name": "stdout",
     "text": [
      "['Row 1:', 7, 8, 9, 'Row 2:', 4, 5, 6, 'Row 3:', 1, 2, 3]\n",
      "['Row 1:', 7, 8, 9]\n",
      "['Row 2:', 4, 5, 6]\n",
      "['Row 3:', 1, 2, 3]\n",
      "Please use the appropriate keys.\n"
     ]
    }
   ],
   "metadata": {}
  },
  {
   "cell_type": "code",
   "execution_count": 12,
   "source": [
    "liste1 = [1,2,True,5.6,(\"Super\",9,(\"Feierabend\", \"kein\",False))]\r\n",
    "print(liste1[2])\r\n",
    "print(liste1[1][0])"
   ],
   "outputs": [
    {
     "output_type": "stream",
     "name": "stderr",
     "text": [
      "<>:1: SyntaxWarning: 'float' object is not callable; perhaps you missed a comma?\n",
      "<>:1: SyntaxWarning: 'int' object is not callable; perhaps you missed a comma?\n",
      "<>:1: SyntaxWarning: 'float' object is not callable; perhaps you missed a comma?\n",
      "<>:1: SyntaxWarning: 'int' object is not callable; perhaps you missed a comma?\n",
      "<ipython-input-12-cf11b660aaa3>:1: SyntaxWarning: 'float' object is not callable; perhaps you missed a comma?\n",
      "  liste1 = [1,2,True,5.6(\"Super\",9(\"Feierabend\", \"kein\",False))]\n",
      "<ipython-input-12-cf11b660aaa3>:1: SyntaxWarning: 'int' object is not callable; perhaps you missed a comma?\n",
      "  liste1 = [1,2,True,5.6(\"Super\",9(\"Feierabend\", \"kein\",False))]\n"
     ]
    },
    {
     "output_type": "error",
     "ename": "TypeError",
     "evalue": "'int' object is not callable",
     "traceback": [
      "\u001b[1;31m---------------------------------------------------------------------------\u001b[0m",
      "\u001b[1;31mTypeError\u001b[0m                                 Traceback (most recent call last)",
      "\u001b[1;32m<ipython-input-12-cf11b660aaa3>\u001b[0m in \u001b[0;36m<module>\u001b[1;34m\u001b[0m\n\u001b[1;32m----> 1\u001b[1;33m \u001b[0mliste1\u001b[0m \u001b[1;33m=\u001b[0m \u001b[1;33m[\u001b[0m\u001b[1;36m1\u001b[0m\u001b[1;33m,\u001b[0m\u001b[1;36m2\u001b[0m\u001b[1;33m,\u001b[0m\u001b[1;32mTrue\u001b[0m\u001b[1;33m,\u001b[0m\u001b[1;36m5.6\u001b[0m\u001b[1;33m(\u001b[0m\u001b[1;34m\"Super\"\u001b[0m\u001b[1;33m,\u001b[0m\u001b[1;36m9\u001b[0m\u001b[1;33m(\u001b[0m\u001b[1;34m\"Feierabend\"\u001b[0m\u001b[1;33m,\u001b[0m \u001b[1;34m\"kein\"\u001b[0m\u001b[1;33m,\u001b[0m\u001b[1;32mFalse\u001b[0m\u001b[1;33m)\u001b[0m\u001b[1;33m)\u001b[0m\u001b[1;33m]\u001b[0m\u001b[1;33m\u001b[0m\u001b[1;33m\u001b[0m\u001b[0m\n\u001b[0m\u001b[0;32m      2\u001b[0m \u001b[0mprint\u001b[0m\u001b[1;33m(\u001b[0m\u001b[0mliste1\u001b[0m\u001b[1;33m[\u001b[0m\u001b[1;36m2\u001b[0m\u001b[1;33m]\u001b[0m\u001b[1;33m)\u001b[0m\u001b[1;33m\u001b[0m\u001b[1;33m\u001b[0m\u001b[0m\n\u001b[0;32m      3\u001b[0m \u001b[0mprint\u001b[0m\u001b[1;33m(\u001b[0m\u001b[0mliste1\u001b[0m\u001b[1;33m[\u001b[0m\u001b[1;36m1\u001b[0m\u001b[1;33m]\u001b[0m\u001b[1;33m[\u001b[0m\u001b[1;36m0\u001b[0m\u001b[1;33m]\u001b[0m\u001b[1;33m)\u001b[0m\u001b[1;33m\u001b[0m\u001b[1;33m\u001b[0m\u001b[0m\n",
      "\u001b[1;31mTypeError\u001b[0m: 'int' object is not callable"
     ]
    }
   ],
   "metadata": {}
  }
 ],
 "metadata": {
  "kernelspec": {
   "display_name": "Python 3",
   "language": "python",
   "name": "python3"
  },
  "language_info": {
   "codemirror_mode": {
    "name": "ipython",
    "version": 3
   },
   "file_extension": ".py",
   "mimetype": "text/x-python",
   "name": "python",
   "nbconvert_exporter": "python",
   "pygments_lexer": "ipython3",
   "version": "3.8.8"
  }
 },
 "nbformat": 4,
 "nbformat_minor": 4
}