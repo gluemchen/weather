{
 "cells": [
  {
   "cell_type": "markdown",
   "metadata": {},
   "source": [
    "# 1. Währungsrechner\r\n",
    "## Schreiben Sie ein Programm, dass Währung umrechnet. Die Eingabe erfolgt in Euro durch den Benutzer. Denknen Sie daran, dass Währung auch nachkommastellen hat. Die Ausgabe erfolgt in:\r\n",
    "\r\n",
    "US-Dollar (Kurs 1:1,21)\r\n",
    "Pfund Sterling (Kurs 1:1,13)\r\n",
    "Norwegische Krone (Kurs 1:0,097)\r\n",
    "Russischer Rubel (Kurs 1:88,97)\r\n",
    "Bitcoin (Kurs 1:0,000034)"
   ]
  },
  {
   "cell_type": "code",
   "execution_count": 3,
   "metadata": {},
   "outputs": [
    {
     "name": "stdout",
     "output_type": "stream",
     "text": [
      "In Pounds:  264684.42\n"
     ]
    }
   ],
   "source": [
    "auswahl = input(\"Which currency do you wish to calculate: \")\r\n",
    "# euro = float(input('In Euro: '))\r\n",
    "dollar = euro * 1.21\r\n",
    "dollarstr = \"dollar\"\r\n",
    "pound = euro * 1.13\r\n",
    "poundstr = \"pound\"\r\n",
    "crown = euro * 0.097\r\n",
    "crownstr = \"crown\"\r\n",
    "rubel = euro * 88.97\r\n",
    "rubelstr = \"rubel\"\r\n",
    "btc = euro * 0.000034\r\n",
    "btcstr = \"btc\"\r\n",
    "currencycheck = [dollarstr, poundstr, crownstr, rubelstr, btcstr]\r\n",
    "if auswahl.lower() in currencycheck:\r\n",
    "    euro = float(input('In Euro: '))\r\n",
    "\r\n",
    "    if auswahl.lower() == \"dollar\":\r\n",
    "        print('In Dollars: ', dollar)\r\n",
    "\r\n",
    "    elif auswahl.lower() == \"pound\":\r\n",
    "        print('In Pounds: ', pound)\r\n",
    "\r\n",
    "    elif auswahl.lower() == \"pound\":\r\n",
    "        print('In Crowns: ', crown)\r\n",
    "\r\n",
    "    elif auswahl.lower() == \"crown\":\r\n",
    "        print('In Rubel: ', rubel)\r\n",
    "\r\n",
    "    elif auswahl.lower() == \"btc\":\r\n",
    "        print('In Bitcoin: ', btc)\r\n",
    "        \r\n",
    "else:\r\n",
    "    print(\"Incorrect currency!\")\r\n",
    "# print(currencycheck.index(dollarstr))    "
   ]
  }
 ],
 "metadata": {
  "interpreter": {
   "hash": "97ae724bfa85b9b34df7982b8bb8c7216f435b92902d749e4263f71162bea840"
  },
  "kernelspec": {
   "display_name": "Python 3.8.8 64-bit ('base': conda)",
   "name": "python3"
  },
  "language_info": {
   "codemirror_mode": {
    "name": "ipython",
    "version": 3
   },
   "file_extension": ".py",
   "mimetype": "text/x-python",
   "name": "python",
   "nbconvert_exporter": "python",
   "pygments_lexer": "ipython3",
   "version": "3.8.8"
  },
  "orig_nbformat": 4
 },
 "nbformat": 4,
 "nbformat_minor": 2
}