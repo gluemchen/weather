{
 "cells": [
  {
   "cell_type": "markdown",
   "metadata": {},
   "source": [
    "    Name:Mike Jones\n",
    "    Gruppe:IT-S-21-01\n",
    "    Lehrgang:FIA"
   ]
  },
  {
   "cell_type": "markdown",
   "metadata": {},
   "source": [
    "# Aufgaben String, Listen, Tupel"
   ]
  },
  {
   "cell_type": "markdown",
   "metadata": {},
   "source": [
    "## 1. String ausgeben\n",
    "\n",
    "Gegeben ist folgender String: \"Die Auszubildenden im BFW sind super\" \n",
    "1. Geben Sie den String an den Benutzer aus!\n",
    "2. Geben Sie den String \"Die super Auszubildenden\" an die Benutzer aus. Benutzen Sie nur die Elemente aus dem gegebenen String\n"
   ]
  },
  {
   "cell_type": "code",
   "execution_count": 1,
   "metadata": {},
   "outputs": [],
   "source": [
    "# Lösung 1\n",
    "string = \"Die Auszubildenden im BFW sind super\"\n",
    "print(string)\n",
    "string = \"Die super Auszubildenden\"\n",
    "print(string)"
   ]
  },
  {
   "cell_type": "markdown",
   "metadata": {},
   "source": [
    "## 2. Suchen nach bestimmten Teilen\n",
    "\n",
    "Gegeben ist folgender String: \"Das Wetter in Stuttgart ist meist gut\"\n",
    "\n",
    "Überprüfen Sie, ob in dem String \"gart\" steht und geben Sie das Ergebnis der Suche an den Benutzer aus"
   ]
  },
  {
   "cell_type": "code",
   "execution_count": 3,
   "metadata": {},
   "outputs": [
    {
     "name": "stdout",
     "output_type": "stream",
     "text": [
      "Enter the term you wish to search for: sdf\n",
      "The term sdf was not found.\n"
     ]
    }
   ],
   "source": [
    "# Lösung 2\n",
    "string = \"Das Wetter in Stuttgart ist meist gut\"\n",
    "text = string.lower()\n",
    "search = input(\"Enter the term you wish to search for: \")\n",
    "searchtext = search.lower()\n",
    "result = searchtext in text\n",
    "if(result):\n",
    "    print(\"The term\",search,\"was found.\")\n",
    "else:\n",
    "    print(\"The term\",search,\"was not found.\")\n",
    "    \n"
   ]
  },
  {
   "cell_type": "markdown",
   "metadata": {},
   "source": [
    "### 3. Verketten von Strings\n",
    "\n",
    "Initialisieren Sie die Strings \"Die Auzubildenden im BFW\" und \"sind super\": Fügen Sie die beiden Strings zu einem neuen String zusammen"
   ]
  },
  {
   "cell_type": "code",
   "execution_count": 15,
   "metadata": {},
   "outputs": [
    {
     "name": "stdout",
     "output_type": "stream",
     "text": [
      "Geben sie zwei texte ein die sie zusammenfuehren moechten.\n",
      "geben sie den ersten text einf.,dgmn.dfjg\n",
      "geben sie den zweiten text einsdfnsndlkfn\n",
      "f.,dgmn.dfjg sdfnsndlkfn\n"
     ]
    }
   ],
   "source": [
    "# Lösung 3\n",
    "string1=\"\"\n",
    "string2=\"\"\n",
    "print(\"Geben sie zwei texte ein die sie zusammenfuehren moechten.\")\n",
    "string1 = input(\"geben sie den ersten text ein\")\n",
    "string2 = input(\"geben sie den zweiten text ein\")\n",
    "combined = string1 + \" \" + string2\n",
    "print(combined)"
   ]
  },
  {
   "cell_type": "markdown",
   "metadata": {},
   "source": [
    "### 4. Buchstaben verändern\n",
    "\n",
    "Gegeben ist der String: \"kino check\"\n",
    "Wenden Sie eine Methode auf diesen String an um beide Wörter groß zu schreiben"
   ]
  },
  {
   "cell_type": "code",
   "execution_count": 17,
   "metadata": {},
   "outputs": [
    {
     "name": "stdout",
     "output_type": "stream",
     "text": [
      "Type in your text: sjkdhfkshdf sdfhskdhfksjdhf\n",
      "SJKDHFKSHDF SDFHSKDHFKSJDHF\n"
     ]
    }
   ],
   "source": [
    "# Lösung 4\n",
    "string = input(\"Type in your text: \")\n",
    "print(string.upper())"
   ]
  },
  {
   "cell_type": "markdown",
   "metadata": {},
   "source": [
    "### 5. Unterschiede Methoden\n",
    "\n",
    "Nennen Sie den Unterschied zwischen den Methoden \n",
    "````Python\n",
    "upper()\n",
    "````\n",
    "und \n",
    "````Python\n",
    "lower()!\n",
    "````"
   ]
  },
  {
   "cell_type": "code",
   "execution_count": 18,
   "metadata": {},
   "outputs": [
    {
     "name": "stdout",
     "output_type": "stream",
     "text": [
      "Type in your text: 09swftu09weu0ftr9iq3409drumq0\n",
      "09SWFTU09WEU0FTR9IQ3409DRUMQ0\n",
      "09swftu09weu0ftr9iq3409drumq0\n"
     ]
    }
   ],
   "source": [
    "# Lösung 5\n",
    "string = input(\"Type in your text: \")\n",
    "print(string.upper())\n",
    "print(string.lower())"
   ]
  },
  {
   "cell_type": "markdown",
   "metadata": {},
   "source": [
    "### 6. Ändern einer Liste\n",
    "Gegeben ist folgende Liste: liste1 = [0,1,2,3,4,5,6,7,8,9]\n",
    "1. Erweitern Sie die Liste mittels Methode um die Zahlen 10,11,12,13\n",
    "2. Entfernen Sie die Zahl 0 und die Zahl 13 mittels Methode aus der Liste\n",
    "3. Ändern Sie die Zahlen in die Buchstaben des Alphabets also 1=a, 2=b, 3=c usw.\n",
    "Geben Sie alle 3 Aufgaben an den Benutzer aus"
   ]
  },
  {
   "cell_type": "code",
   "execution_count": 41,
   "metadata": {},
   "outputs": [
    {
     "name": "stdout",
     "output_type": "stream",
     "text": [
      "[0, 1, 2, 3, 4, 5, 6, 7, 8, 9, 10, 11, 12, 13]\n",
      "[1, 2, 3, 4, 5, 6, 7, 8, 9, 10, 11, 12]\n",
      "['a', 'b', 'c', 'd', 'e', 'f', 'g', 'h', 'i', 'j', 'k', 'l']\n"
     ]
    }
   ],
   "source": [
    "# Lösung 6\n",
    "liste1 = [0,1,2,3,4,5,6,7,8,9]\n",
    "liste1.append(10)\n",
    "liste1.append(11)\n",
    "liste1.append(12)\n",
    "liste1.append(13)\n",
    "# liste2 = [10,11,12,13]\n",
    "print(liste1)\n",
    "liste1.remove(0)\n",
    "liste1.remove(13)\n",
    "print(liste1)\n",
    "liste1[0]=(\"a\")\n",
    "liste1[1]=(\"b\")\n",
    "liste1[2]=(\"c\")\n",
    "liste1[3]=(\"d\")\n",
    "liste1[4]=(\"e\")\n",
    "liste1[5]=(\"f\")\n",
    "liste1[6]=(\"g\")\n",
    "liste1[7]=(\"h\")\n",
    "liste1[8]=(\"i\")\n",
    "liste1[9]=(\"j\")\n",
    "liste1[10]=(\"k\")\n",
    "liste1[11]=(\"l\")\n",
    "print(liste1)"
   ]
  },
  {
   "cell_type": "markdown",
   "metadata": {},
   "source": [
    "### 7. Listen Ausgabe  \n",
    "\n",
    "Gegeben ist folgende Liste\n",
    "````Python\n",
    "liste1 = [1,2,True,5.6,(\"Super\",9,(\"Feierabend\", \"kein\",False))]\n",
    "````\n",
    "Geben Sie nacheinander folgende Werte aus der Liste aus!\n",
    "````\n",
    "- True\n",
    "- Super\n",
    "- False\n",
    "- ein Feierabend\n",
    "````"
   ]
  },
  {
   "cell_type": "code",
   "execution_count": 43,
   "metadata": {},
   "outputs": [
    {
     "name": "stdout",
     "output_type": "stream",
     "text": [
      "True\n",
      "Super\n",
      "False\n",
      "Feierabend\n"
     ]
    }
   ],
   "source": [
    "# Lösung 7\n",
    "liste1 = [1,2,True,5.6,(\"Super\",9,(\"Feierabend\", \"kein\",False))]\n",
    "print(liste1[2])\n",
    "print(liste1[4][0])\n",
    "print(liste1[4][2][2])\n",
    "print(liste1[4][2][0])"
   ]
  },
  {
   "cell_type": "markdown",
   "metadata": {},
   "source": [
    "### 8. Tupel Ausgabe \n",
    "\n",
    "Gegeben ist folgender Tupel:\n",
    "````Python\n",
    "tupel1 = ((\"Ich\", \"bin\", \"Super\"),(\"Briem\", \"Müller\", \"Kaltenbach\"),(\"Guten Abend\", \"Schlechten Morgen\"),(\"Frau\",\"Mann\",\"Divers\",\"Herr\"))\n",
    "````\n",
    "Geben Sie \"Guten Morgen Herr Briem\" an den Benutzer aus!\n",
    "\n"
   ]
  },
  {
   "cell_type": "code",
   "execution_count": 54,
   "metadata": {},
   "outputs": [
    {
     "name": "stdout",
     "output_type": "stream",
     "text": [
      "Guten  Herr Briem\n"
     ]
    }
   ],
   "source": [
    "# Lösung 8\n",
    "tupel1 = ((\"Ich\", \"bin\", \"Super\"),(\"Briem\", \"Müller\", \"Kaltenbach\"),(\"Guten Abend\", \"Schlechten Morgen\"),(\"Frau\",\"Mann\",\"Divers\",\"Herr\"))\n",
    "print(tupel1[2][0][:6], tpel1[3][3],tupel1[1][0])"
   ]
  },
  {
   "cell_type": "code",
   "execution_count": null,
   "metadata": {},
   "outputs": [],
   "source": []
  }
 ],
 "metadata": {
  "kernelspec": {
   "display_name": "Python 3",
   "language": "python",
   "name": "python3"
  },
  "language_info": {
   "codemirror_mode": {
    "name": "ipython",
    "version": 3
   },
   "file_extension": ".py",
   "mimetype": "text/x-python",
   "name": "python",
   "nbconvert_exporter": "python",
   "pygments_lexer": "ipython3",
   "version": "3.8.8"
  }
 },
 "nbformat": 4,
 "nbformat_minor": 4
}
