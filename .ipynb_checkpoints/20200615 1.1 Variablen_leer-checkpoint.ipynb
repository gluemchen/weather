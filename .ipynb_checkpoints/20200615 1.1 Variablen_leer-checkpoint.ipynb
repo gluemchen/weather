{
 "cells": [
  {
   "cell_type": "markdown",
   "metadata": {},
   "source": [
    "    Name: Mike Jones\n",
    "    Gruppe: IT-S-21-01\n",
    "    Lehrgang: FIA"
   ]
  },
  {
   "cell_type": "markdown",
   "metadata": {},
   "source": [
    "# Aufgaben Variablen"
   ]
  },
  {
   "cell_type": "markdown",
   "metadata": {},
   "source": [
    "# 1. Quellcode / Maschinencode\n",
    "\n",
    "Was ist der der Unterschied zwischen einem Quellcode und einem Maschinencode?"
   ]
  },
  {
   "cell_type": "markdown",
   "metadata": {},
   "source": [
    "Lösung 1 Quellcode ist "
   ]
  },
  {
   "cell_type": "markdown",
   "metadata": {},
   "source": [
    "# 2. Variablen\n",
    "\n",
    "Wozu verwenden Programmierer Variablen?"
   ]
  },
  {
   "cell_type": "markdown",
   "metadata": {},
   "source": [
    "Lösung 2"
   ]
  },
  {
   "cell_type": "markdown",
   "metadata": {},
   "source": [
    "# 3. Variablen\n",
    "\n",
    "Nennen Sie 3 Eigenschaften die Sie beim Bezeichner beachten müssen!"
   ]
  },
  {
   "cell_type": "markdown",
   "metadata": {},
   "source": [
    "Lösung 3"
   ]
  },
  {
   "cell_type": "markdown",
   "metadata": {},
   "source": [
    "# 4. Variable\n",
    "\n",
    "a) Initalisieren Sie eine Variable mit beliebigen Namen mit dem Wert 420.\n",
    "\n",
    "b) Welchen Datentyp hat die Variable mit dem Wert 420?\n",
    "\n",
    "c) Initalisieren Sie eine Variable mit beliebigen Namen mit dem Wert Apfelbaum.\n",
    "\n",
    "d) Welchen Datentyp hat die Variable mit dem Wert Apfelbaum?"
   ]
  },
  {
   "cell_type": "code",
   "execution_count": null,
   "metadata": {},
   "outputs": [],
   "source": [
    "# Lösung 4"
   ]
  },
  {
   "cell_type": "markdown",
   "metadata": {},
   "source": [
    "# 5. Dateneingabe\n",
    "\n",
    "Nennen Sie 2 Möglichkeiten um Informationen an ein Computer Programm  zu übergeben!"
   ]
  },
  {
   "cell_type": "markdown",
   "metadata": {},
   "source": [
    "Lösung 5"
   ]
  },
  {
   "cell_type": "markdown",
   "metadata": {},
   "source": [
    "# 6. Arithmetik Operatoren\n",
    "\n",
    "Was ist der Unterschied zwischen diesem / und diesem // Operator?"
   ]
  },
  {
   "cell_type": "markdown",
   "metadata": {},
   "source": [
    "Lösung 6"
   ]
  },
  {
   "cell_type": "markdown",
   "metadata": {},
   "source": [
    "# 7. Kurzgeschichte\n",
    "\n",
    "Entwickeln Sie ein Programm, das ein Kurzgeschichte entwirft. Vorher soll das Programm einige persönliche Daten abfragen, die dann in der Geschichte verwendet werden.\n",
    "\n",
    "- Name\n",
    "- Monat des Gepurtstages\n",
    "- Haarfarbe\n",
    "- Wohnort"
   ]
  },
  {
   "cell_type": "code",
   "execution_count": 1,
   "metadata": {},
   "outputs": [],
   "source": [
    "# Lösung 7\n"
   ]
  },
  {
   "cell_type": "markdown",
   "metadata": {},
   "source": [
    "# 8. Reiseplanung\n",
    "\n",
    "Entwickeln Sie ein Programme, das Sie bei der Planung einer Gruppenreise unterstützen soll. Das Programm fragt zuerst folgende Daten ab:\n",
    "\n",
    "- Anzahl Personen\n",
    "- Preis pro Person im Hotel\n",
    "- Buskosten insgesamt\n",
    "- Ausflüge etc insgesamt\n",
    "\n",
    "Anschließend berechnet das Programm folgende Werte:\n",
    "\n",
    "- Gesamtkosten\n",
    "- Kosten pro Person"
   ]
  },
  {
   "cell_type": "code",
   "execution_count": 2,
   "metadata": {},
   "outputs": [],
   "source": [
    "# Lösung 8\n"
   ]
  },
  {
   "cell_type": "markdown",
   "metadata": {},
   "source": [
    "# 9. KFZ-Kosten\n",
    "\n",
    "Entwickeln Sie ein Programm, dass Ihre Tankbelege ausewertet. Diese Belege enthalten folgende Einträge:\n",
    "\n",
    "- km-Stand vorheriges Tanken\n",
    "- km-Stand aktuell\n",
    "- getankte Menge Treibstoff\n",
    "- Preis\n",
    "- Anzahl der Tage seit dem letzten Tanken\n",
    "\n",
    "Das Programm soll dann folgende Daten ermitteln:\n",
    "\n",
    "- Preis Treibstoff pro Liter\n",
    "- Kosten Treibstoff pro km\n",
    "- Kosten pro Tag"
   ]
  },
  {
   "cell_type": "code",
   "execution_count": 3,
   "metadata": {},
   "outputs": [],
   "source": [
    "# Lösung 9\n"
   ]
  },
  {
   "cell_type": "markdown",
   "metadata": {},
   "source": [
    "# 10. Restgeldanzeige\n",
    "\n",
    "Lassen Sie vom Benutzer einen beliebigen Ganzzahlbeitrag angeben und das Programm gibt aus aus wievielen Münzen/Scheinen dieser Betrag zusammengesetzt ist.\n",
    "Erlaubt sind folgende Beträge (100 €, 50 €, 20 €, 10 €, 5 €, 2 € und 1 €).  \n",
    "Eingabe: 192  \n",
    "Ausgabe  \n",
    "1 x 100 €  \n",
    "1 x 50 €  \n",
    "2 x 20 €  \n",
    "0 x 5 €  \n",
    "1 x 2 €  \n",
    "0 x 1 €  \n",
    "  \n",
    "Tipps: Um den ganzzahligen Rest einer Division zu ermitteln, eignet sich der Modulo Operator (%). Durch die Verwendung des Operators \"//\" wird eine ganzzahlige Division erzwungen."
   ]
  },
  {
   "cell_type": "code",
   "execution_count": 4,
   "metadata": {},
   "outputs": [],
   "source": [
    "# Lösung 10\n"
   ]
  },
  {
   "cell_type": "markdown",
   "metadata": {},
   "source": [
    "# 11. Festmeter\n",
    "\n",
    "In der Forstwirtschaft wird der Holzertrag eines gefällten Baumes in Festmeter angegeben.\n",
    "Bei einer Länge (L in Meter) und dem Durchmesser eines Baumes (D in cm) lautet die Formel:\n",
    "\n",
    "(pi/4 * D²)* L/1000\n",
    "\n",
    "Beispiel 10m lang und 30 cm Durchmesser --> 0.70685834\n",
    "\n",
    "Hinweis: Nach dem Importieren des math-Moduls steht Pi als Konstante zur Verfügung."
   ]
  },
  {
   "cell_type": "code",
   "execution_count": 5,
   "metadata": {},
   "outputs": [],
   "source": [
    "# Lösung 11\n"
   ]
  },
  {
   "cell_type": "markdown",
   "metadata": {},
   "source": [
    "# 12. Tic Tac Toe\n",
    "\n",
    "Gegeben sind 9 Variablen mit dem Inhalt: \" \", \"x\", \"o\"\n",
    "\n",
    "7 8 9  \n",
    "4 5 6  \n",
    "1 2 3  \n",
    "\n",
    "Geben Sie das Spielfeld aus!\n",
    "\n",
    "'  | o | x  \n",
    "'---------  \n",
    "'o | x |   \n",
    "'---------  \n",
    "'o | x |  \n",
    "\n",
    "(Beispiel ohne ')"
   ]
  },
  {
   "cell_type": "code",
   "execution_count": 6,
   "metadata": {},
   "outputs": [],
   "source": [
    "# Lösung 12\n"
   ]
  }
 ],
 "metadata": {
  "kernelspec": {
   "display_name": "Python 3",
   "language": "python",
   "name": "python3"
  },
  "language_info": {
   "codemirror_mode": {
    "name": "ipython",
    "version": 3
   },
   "file_extension": ".py",
   "mimetype": "text/x-python",
   "name": "python",
   "nbconvert_exporter": "python",
   "pygments_lexer": "ipython3",
   "version": "3.8.5"
  }
 },
 "nbformat": 4,
 "nbformat_minor": 4
}
