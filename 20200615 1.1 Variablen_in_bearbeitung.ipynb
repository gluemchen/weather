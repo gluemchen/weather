{
 "cells": [
  {
   "cell_type": "markdown",
   "metadata": {},
   "source": [
    "    Name: Mike Jones\n",
    "    Gruppe: IT-S-21-01\n",
    "    Lehrgang: FIA"
   ]
  },
  {
   "cell_type": "markdown",
   "metadata": {},
   "source": [
    "# Aufgaben Variablen"
   ]
  },
  {
   "cell_type": "markdown",
   "metadata": {},
   "source": [
    "# 1. Quellcode / Maschinencode\n",
    "\n",
    "Was ist der der Unterschied zwischen einem Quellcode und einem Maschinencode?"
   ]
  },
  {
   "cell_type": "markdown",
   "metadata": {},
   "source": [
    "Lösung 1: Quellcode sind von Programmierer geschriebene Anweisungen die der Prozessor abarbeiten soll"
   ]
  },
  {
   "cell_type": "markdown",
   "metadata": {},
   "source": [
    "# 2. Variablen\n",
    "\n",
    "Wozu verwenden Programmierer Variablen?"
   ]
  },
  {
   "cell_type": "markdown",
   "metadata": {},
   "source": [
    "Lösung 2: Variablen sind dazu da um informationen im speicher abzulegen. "
   ]
  },
  {
   "cell_type": "markdown",
   "metadata": {},
   "source": [
    "# 3. Variablen\n",
    "\n",
    "Nennen Sie 3 Eigenschaften die Sie beim Bezeichner beachten müssen!"
   ]
  },
  {
   "cell_type": "markdown",
   "metadata": {},
   "source": [
    "Lösung 3: Der bezeichner sollte dem syntax der Sprache folgen. Leerzeichen gehen nicht. Sonderzeichen gehen nicht. Zahlen gehen nicht. z.B. (2Var,#Var, Var)"
   ]
  },
  {
   "cell_type": "markdown",
   "metadata": {},
   "source": [
    "# 4. Variable\n",
    "\n",
    "a) Initalisieren Sie eine Variable mit beliebigen Namen mit dem Wert 420.\n",
    "\n",
    "b) Welchen Datentyp hat die Variable mit dem Wert 420?\n",
    "\n",
    "c) Initalisieren Sie eine Variable mit beliebigen Namen mit dem Wert Apfelbaum.\n",
    "\n",
    "d) Welchen Datentyp hat die Variable mit dem Wert Apfelbaum?"
   ]
  },
  {
   "cell_type": "code",
   "execution_count": 1,
   "metadata": {},
   "outputs": [
    {
     "name": "stdout",
     "output_type": "stream",
     "text": [
      "1761728813584\n",
      "1761729047600\n"
     ]
    }
   ],
   "source": [
    "var = 420 #Diese variable besitzt den Datentyp int(integer=ist eine ganzzahl)\n",
    "print(id(var))\n",
    "var = \"Apfelbaum\" #Diese variable besitzt ein Datentyp von String\n",
    "print(id(var))"
   ]
  },
  {
   "cell_type": "markdown",
   "metadata": {},
   "source": [
    "# 5. Dateneingabe\n",
    "\n",
    "Nennen Sie 2 Möglichkeiten um Informationen an ein Computer Programm  zu übergeben!"
   ]
  },
  {
   "cell_type": "code",
   "execution_count": 8,
   "metadata": {},
   "outputs": [
    {
     "name": "stdout",
     "output_type": "stream",
     "text": [
      "3\n"
     ]
    }
   ],
   "source": [
    "#Durch input(angeforderte eingabe). Oder durch initialisierung z.B. var = 4\n",
    "\n",
    "\n",
    "var1 = 4\n",
    "var2 = 3\n",
    "print(var2)\n",
    " "
   ]
  },
  {
   "cell_type": "markdown",
   "metadata": {},
   "source": [
    "# 6. Arithmetik Operatoren\n",
    "\n",
    "Was ist der Unterschied zwischen diesem / und diesem // Operator?"
   ]
  },
  {
   "cell_type": "markdown",
   "metadata": {},
   "source": [
    "Lösung 6:\n",
    "\n",
    "/ = 7/3 = 2,3333333.....(genaues Ergebnis) // = 7/3 = 2 (Ganzzahlergebnis)"
   ]
  },
  {
   "cell_type": "code",
   "execution_count": null,
   "metadata": {},
   "outputs": [],
   "source": [
    "print(7 // 3)"
   ]
  },
  {
   "cell_type": "markdown",
   "metadata": {},
   "source": [
    "# 7. Kurzgeschichte\n",
    "\n",
    "Entwickeln Sie ein Programm, das ein Kurzgeschichte entwirft. Vorher soll das Programm einige persönliche Daten abfragen, die dann in der Geschichte verwendet werden.\n",
    "\n",
    "- Name\n",
    "- Monat des Gepurtstages\n",
    "- Haarfarbe\n",
    "- Wohnort"
   ]
  },
  {
   "cell_type": "code",
   "execution_count": 2,
   "metadata": {},
   "outputs": [
    {
     "name": "stdout",
     "output_type": "stream",
     "text": [
      "Bitte geben Sie ihren namen ein: trbrdthd\n",
      "Bitte geben Sie ihren Geburtsmonat ein: dbthdth\n",
      "Bitte geben Sie ihre Haarfarbe ein: dvbthbd\n",
      "Bitte geben Sie ihren Wohnort an: dbthh\n",
      "Hallo hier ist trbrdthd und ich habe im monat dbthdth Geburtstag. Meine Haarfarbe ist dvbthbd. Ich wohne in dbthh\n"
     ]
    }
   ],
   "source": [
    "# Lösung 7\n",
    "\n",
    "# Variablen Deklaration\n",
    "string_name = input(\"Bitte geben Sie ihren namen ein: \")\n",
    "int_geburtstag_monat = input(\"Bitte geben Sie ihren Geburtsmonat ein: \")\n",
    "string_haarfarbe = input(\"Bitte geben Sie ihre Haarfarbe ein: \")\n",
    "string_wohnort = input(\"Bitte geben Sie ihren Wohnort an: \")\n",
    "\n",
    "print(\"Hallo hier ist\",string_name,\"und ich habe im monat \" + int_geburtstag_monat + \" Geburtstag. Meine Haarfarbe ist \" + string_haarfarbe + \". Ich wohne in \" + string_wohnort)"
   ]
  },
  {
   "cell_type": "markdown",
   "metadata": {},
   "source": [
    "# 8. Reiseplanung\n",
    "\n",
    "Entwickeln Sie ein Programme, das Sie bei der Planung einer Gruppenreise unterstützen soll. Das Programm fragt zuerst folgende Daten ab:\n",
    "\n",
    "- Anzahl Personen\n",
    "- Preis pro Person im Hotel\n",
    "- Buskosten insgesamt\n",
    "- Ausflüge etc insgesamt\n",
    "\n",
    "Anschließend berechnet das Programm folgende Werte:\n",
    "\n",
    "- Gesamtkosten\n",
    "- Kosten pro Person"
   ]
  },
  {
   "cell_type": "code",
   "execution_count": null,
   "metadata": {},
   "outputs": [],
   "source": [
    "# Lösung 7\n",
    "\n",
    "# Variablen Deklaration\n",
    "anzahl_personen = int(input(\"Bitte geben Sie die Anzahl der Personen ein: \"))\n",
    "hotelpreis_pro_person = float(input(\"Bitte geben Sie den Preis pro Person an: \"))\n",
    "buskosten_gesamt = float(input(\"Bitte geben Sie die gesamt Buskosten ein: \"))\n",
    "ausflug_gesamt =  float(input(\"Bitte geben Sie alle Ausflugskosten ein: \"))\n",
    "gesamtkosten = anzahl_personen * hotelpreis_pro_person + buskosten_gesamt + ausflug_gesamt\n",
    "gesamtkosten_pro_person = (gesamtkosten / anzahl_personen)\n",
    "\n",
    "#Ausgabe\n",
    "print(\"Gesamtkosten: \" + str(gesamtkosten) + \" €\")\n",
    "print(\"Kosten pro Person: \" + str(gesamtkosten_pro_person) + \" €\")"
   ]
  },
  {
   "cell_type": "markdown",
   "metadata": {},
   "source": [
    "# 9. KFZ-Kosten\n",
    "\n",
    "Entwickeln Sie ein Programm, dass Ihre Tankbelege ausewertet. Diese Belege enthalten folgende Einträge:\n",
    "\n",
    "- km-Stand vorheriges Tanken\n",
    "- km-Stand aktuell\n",
    "- getankte Menge Treibstoff\n",
    "- Preis\n",
    "- Anzahl der Tage seit dem letzten Tanken\n",
    "\n",
    "Das Programm soll dann folgende Daten ermitteln:\n",
    "\n",
    "- Preis Treibstoff pro Liter\n",
    "- Kosten Treibstoff pro km\n",
    "- Kosten pro Tag"
   ]
  },
  {
   "cell_type": "code",
   "execution_count": 29,
   "metadata": {},
   "outputs": [
    {
     "name": "stdout",
     "output_type": "stream",
     "text": [
      "Bitte geben Sie vom vorherigen Tanken den Kilometerstand an: 500\n",
      "Bitte geben Sie den aktuellen Kilometerstand ein: 1000\n",
      "Bitte geben Sie die gesamte Tankfüllung in Liter an: 50\n",
      "Bitte geben Sie die Gesammtkosten der Tankfüllung an: 75\n",
      "Anzahl der Tage seit dem letzten Tanken: 5\n",
      "Preis pro Liter: 1.5 €\n",
      "Kosten pro Kilometer: 0.15000000000000002 €\n",
      "Kosten pro Tag: 15.0 €\n"
     ]
    }
   ],
   "source": [
    "#### Lösung 9\n",
    "\n",
    "#Variablen Deklaration\n",
    "km_stand_vor_tanken = int(input(\"Bitte geben Sie vom vorherigen Tanken den Kilometerstand an: \"))\n",
    "km_stand_aktuell = int(input(\"Bitte geben Sie den aktuellen Kilometerstand ein: \"))\n",
    "menge_getankt = int(input(\"Bitte geben Sie die gesamte Tankfüllung in Liter an: \"))\n",
    "gesamt_preis =  int(input(\"Bitte geben Sie die Gesammtkosten der Tankfüllung an: \"))\n",
    "tage_seit_tanken = int(input(\"Anzahl der Tage seit dem letzten Tanken: \"))\n",
    "\n",
    "#Funktionen\n",
    "preis_pro_liter = gesamt_preis / menge_getankt\n",
    "kosten_pro_km = (menge_getankt / (km_stand_aktuell - km_stand_vor_tanken) * preis_pro_liter)\n",
    "kosten_pro_tag = gesamt_preis / tage_seit_tanken\n",
    "\n",
    "\n",
    "#Ausgabe\n",
    "print(\"Preis pro Liter: \" + str(preis_pro_liter) + \"l/€\")\n",
    "print(\"Kosten pro Kilometer: \" + str(kosten_pro_km) + \" €\")\n",
    "print(\"Kosten pro Tag: \" + str(kosten_pro_tag) + \" €\")\n"
   ]
  },
  {
   "cell_type": "markdown",
   "metadata": {},
   "source": [
    "# 10. Restgeldanzeige\n",
    "\n",
    "Lassen Sie vom Benutzer einen beliebigen Ganzzahlbeitrag angeben und das Programm gibt aus aus wievielen Münzen/Scheinen dieser Betrag zusammengesetzt ist.\n",
    "Erlaubt sind folgende Beträge (100 €, 50 €, 20 €, 10 €, 5 €, 2 € und 1 €).  \n",
    "Eingabe: 192  \n",
    "Ausgabe  \n",
    "1 x 100 €  \n",
    "1 x 50 €  \n",
    "2 x 20 €  \n",
    "0 x 5 €  \n",
    "1 x 2 €  \n",
    "0 x 1 €  \n",
    "  \n",
    "Tipps: Um den ganzzahligen Rest einer Division zu ermitteln, eignet sich der Modulo Operator (%). Durch die Verwendung des Operators \"//\" wird eine ganzzahlige Division erzwungen."
   ]
  },
  {
   "cell_type": "code",
   "execution_count": 8,
   "metadata": {},
   "outputs": [
    {
     "name": "stdout",
     "output_type": "stream",
     "text": [
      "Bitte geben sie einen Betrag an: test\n",
      "<class 'str'>\n"
     ]
    }
   ],
   "source": [
    "\n",
    "\n",
    "einzahlung = input(\"Bitte geben sie einen Betrag an: \")\n",
    "print(type(einzahlung))"
   ]
  },
  {
   "cell_type": "markdown",
   "metadata": {},
   "source": [
    "# 11. Festmeter\n",
    "\n",
    "In der Forstwirtschaft wird der Holzertrag eines gefällten Baumes in Festmeter angegeben.\n",
    "Bei einer Länge (L in Meter) und dem Durchmesser eines Baumes (D in cm) lautet die Formel:\n",
    "\n",
    "(pi/4 * D²)* L/1000\n",
    "\n",
    "Beispiel 10m lang und 30 cm Durchmesser --> 0.70685834\n",
    "\n",
    "Hinweis: Nach dem Importieren des math-Moduls steht Pi als Konstante zur Verfügung."
   ]
  },
  {
   "cell_type": "code",
   "execution_count": 5,
   "metadata": {},
   "outputs": [],
   "source": []
  },
  {
   "cell_type": "markdown",
   "metadata": {},
   "source": [
    "# 12. Tic Tac Toe\n",
    "\n",
    "Gegeben sind 9 Variablen mit dem Inhalt: \" \", \"x\", \"o\"\n",
    "\n",
    "7 8 9  \n",
    "4 5 6  \n",
    "1 2 3  \n",
    "\n",
    "Geben Sie das Spielfeld aus!\n",
    "\n",
    "'  | o | x  \n",
    "'---------  \n",
    "'o | x |   \n",
    "'---------  \n",
    "'o | x |  \n",
    "\n",
    "(Beispiel ohne ')"
   ]
  },
  {
   "cell_type": "code",
   "execution_count": 11,
   "metadata": {},
   "outputs": [
    {
     "ename": "SyntaxError",
     "evalue": "invalid syntax (<ipython-input-11-980339ed2782>, line 3)",
     "output_type": "error",
     "traceback": [
      "\u001b[1;36m  File \u001b[1;32m\"<ipython-input-11-980339ed2782>\"\u001b[1;36m, line \u001b[1;32m3\u001b[0m\n\u001b[1;33m    bottomleft_field =\u001b[0m\n\u001b[1;37m                      ^\u001b[0m\n\u001b[1;31mSyntaxError\u001b[0m\u001b[1;31m:\u001b[0m invalid syntax\n"
     ]
    }
   ],
   "source": [
    "player1 = input(\"Player 1 please insert your name: \")\n",
    "player2 = input(\"Player 2 please insert your name: \")\n",
    "bottomleft_field = \"\"\n",
    "bottomcenter_field = \"\"\n",
    "bottomright_field = \"\"\n",
    "centerleft_field = \"\"\n",
    "center_field = \"\"\n",
    "centerright_field = \"\"\n",
    "topleft_field = \"\"\n",
    "topcenter_field = \"\"\n",
    "topright_field = \n",
    "print(\"Player 1 Turn\")\n",
    "print(topleft_field,topcenter_field,topright_field, sep=\" | \")\n",
    "print(centerleft_field,center_field,centerright_field, sep=\" | \")\n",
    "print(bottomleft_field,bottomcenter_field,bottomright_field, sep=\" | \")"
   ]
  },
  {
   "cell_type": "code",
   "execution_count": null,
   "metadata": {},
   "outputs": [],
   "source": []
  }
 ],
 "metadata": {
  "kernelspec": {
   "display_name": "Python 3",
   "language": "python",
   "name": "python3"
  },
  "language_info": {
   "codemirror_mode": {
    "name": "ipython",
    "version": 3
   },
   "file_extension": ".py",
   "mimetype": "text/x-python",
   "name": "python",
   "nbconvert_exporter": "python",
   "pygments_lexer": "ipython3",
   "version": "3.8.5"
  }
 },
 "nbformat": 4,
 "nbformat_minor": 4
}
